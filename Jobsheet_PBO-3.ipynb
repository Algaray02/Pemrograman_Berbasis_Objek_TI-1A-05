{
  "cells": [
    {
      "cell_type": "markdown",
      "metadata": {
        "id": "view-in-github",
        "colab_type": "text"
      },
      "source": [
        "<a href=\"https://colab.research.google.com/github/Algaray02/Pemrograman_Berbasis_Objek_TI-1A-05/blob/main/Jobsheet_PBO-3.ipynb\" target=\"_parent\"><img src=\"https://colab.research.google.com/assets/colab-badge.svg\" alt=\"Open In Colab\"/></a>"
      ]
    },
    {
      "cell_type": "markdown",
      "metadata": {
        "id": "zBU73Q_g58bu"
      },
      "source": [
        "JobSheet 3 - KONSTRUKTOR, DESTRUKTOR, DAN ENKAPSULASI"
      ]
    },
    {
      "cell_type": "markdown",
      "metadata": {
        "id": "RgJ5Z3kR58by"
      },
      "source": [
        "Praktikum 01 : Enkapsulasi pada Kelas Bank Account"
      ]
    },
    {
      "cell_type": "code",
      "execution_count": 10,
      "metadata": {
        "id": "oz8Ucfw058bz",
        "outputId": "8b8da7f0-d117-423e-c286-7920d99bb10d",
        "colab": {
          "base_uri": "https://localhost:8080/"
        }
      },
      "outputs": [
        {
          "output_type": "stream",
          "name": "stdout",
          "text": [
            "500 telah ditambahkan ke akun: Alfin\n",
            "Jumlah deposit harus lebih dari 0\n",
            "3000 telah ditarik dari akun: Alfin\n",
            "Saldo tidak mencukupi\n",
            "Saldo terakhir akun: Alfin adalah 2500\n",
            "\n",
            "Note:\n",
            "   - Jika mencoba memanggil atribut \"__owner\" atau \"__balance\" secara langsung maka akan error\n",
            "   - Cara agar bisa yaitu dengan cara (variabel_class)._(nama_class)__(atribut)\n",
            "   contoh : alfin_account._BankAccount__owner\n",
            "\n"
          ]
        }
      ],
      "source": [
        "class BankAccount:\n",
        "   def __init__(self, pemilik, balance):\n",
        "      self.__owner = pemilik\n",
        "      self.__balance = balance\n",
        "\n",
        "   def deposit(self, amount):\n",
        "      if amount > 0:\n",
        "         self.__balance += amount\n",
        "         print(f'{amount} telah ditambahkan ke akun: {self.__owner}')\n",
        "      else:\n",
        "         print('Jumlah deposit harus lebih dari 0')\n",
        "\n",
        "   def withdraw(self, amount):\n",
        "      if amount <= self.__balance:\n",
        "         self.__balance -= amount\n",
        "         print(f'{amount} telah ditarik dari akun: {self.__owner}')\n",
        "      else:\n",
        "         print('Saldo tidak mencukupi')\n",
        "\n",
        "   def get_balance(self):\n",
        "      return self.__balance\n",
        "\n",
        "if __name__ == \"__main__\":\n",
        "\n",
        "   alfin_account = BankAccount(pemilik=\"Alfin\", balance=5000)\n",
        "\n",
        "   # mencoba deposit\n",
        "   alfin_account.deposit(500)\n",
        "   alfin_account.deposit(-100) # gagal karena kurang dari 0\n",
        "\n",
        "   # mencoba withdraw\n",
        "   alfin_account.withdraw(3000)\n",
        "   alfin_account.withdraw(7000) # gagal karena saldo kurang\n",
        "\n",
        "   current_balance = alfin_account.get_balance()\n",
        "   print(f'Saldo terakhir akun: {alfin_account._BankAccount__owner} adalah {current_balance}')\n",
        "\n",
        "print('''\n",
        "Note:\n",
        "   - Jika mencoba memanggil atribut \"__owner\" atau \"__balance\" secara langsung maka akan error\n",
        "   - Cara agar bisa yaitu dengan cara (variabel_class)._(nama_class)__(atribut)\n",
        "   contoh : alfin_account._BankAccount__owner\n",
        "''')\n",
        "\n",
        "\n"
      ]
    },
    {
      "cell_type": "markdown",
      "metadata": {
        "id": "YWoqhYvD58b0"
      },
      "source": [
        "Praktikum 02: Enkapsulasi pada kelas Employee"
      ]
    },
    {
      "cell_type": "code",
      "execution_count": 11,
      "metadata": {
        "id": "9c2ZnaQt58b1",
        "outputId": "fc13647d-2b34-4f9e-8b55-4c9691c7cd05",
        "colab": {
          "base_uri": "https://localhost:8080/"
        }
      },
      "outputs": [
        {
          "output_type": "stream",
          "name": "stdout",
          "text": [
            "Employee: John Doe, Gaji: 5000\n",
            "Gaji telah dinaikkan sebesar 5000\n",
            "Gaji setelah kenaikan: 10000\n",
            "Gaji diatur ulang menjadi 60000\n",
            "Informasi terbaru: Employee: John Doe, Gaji: 60000\n"
          ]
        }
      ],
      "source": [
        "class Employee:\n",
        "   def __init__(self, name, salary):\n",
        "      self.__name = name\n",
        "      self.__salary = salary\n",
        "\n",
        "   def update_salary(self, increase):\n",
        "      if increase > 0:\n",
        "         self.__salary += increase\n",
        "         print(f'Gaji telah dinaikkan sebesar {increase}')\n",
        "      else:\n",
        "         print('Nilai kenaikan harus lebih dari 0')\n",
        "\n",
        "   def set_salary(self, new_salary):\n",
        "      if new_salary >= 0:\n",
        "         self.__salary = new_salary\n",
        "         print(f'Gaji diatur ulang menjadi {new_salary}')\n",
        "      else:\n",
        "         print('Gaji tidak dapat bernilai negatif')\n",
        "\n",
        "   def get_salary(self):\n",
        "      return self.__salary\n",
        "\n",
        "   def get_employee_info(self):\n",
        "      return f'Employee: {self.__name}, Gaji: {self.__salary}'\n",
        "\n",
        "\n",
        "# Penggunaan:\n",
        "if __name__ == \"__main__\":\n",
        "   employee1 = Employee(\"John Doe\", 5000)\n",
        "\n",
        "   # Tampilkan info karyawan\n",
        "   print(employee1.get_employee_info())\n",
        "\n",
        "   # Update gaji\n",
        "   employee1.update_salary(5000)\n",
        "   print(f'Gaji setelah kenaikan: {employee1.get_salary()}')\n",
        "\n",
        "   # atur ulang gaji\n",
        "   employee1.set_salary(60000)\n",
        "   print(f'Informasi terbaru: {employee1.get_employee_info()}')\n",
        "\n",
        ""
      ]
    },
    {
      "cell_type": "markdown",
      "metadata": {
        "id": "5cP7i2UQ58b1"
      },
      "source": [
        "Praktikum 03: Konstruktor dan Destruktor Sederhana"
      ]
    },
    {
      "cell_type": "code",
      "execution_count": 12,
      "metadata": {
        "id": "skmUtYwe58b1",
        "outputId": "f4cec494-10ac-418b-c6d2-2c8b354047b0",
        "colab": {
          "base_uri": "https://localhost:8080/"
        }
      },
      "outputs": [
        {
          "output_type": "stream",
          "name": "stdout",
          "text": [
            "Program dimulai\n",
            "\n",
            "Konstruktor: Objek \"Demo\" telah dibuat.\n",
            "Program sedang berjalan...\n",
            "\n",
            "Destruktor: Objek \"Demo\" sedang dihapus.\n",
            "Objek telah dihapus secara eksplisit. \n",
            "\n",
            "Program selesai.\n",
            "\n",
            "Note :\n",
            "   - Variabel yang sudah dihapus melalui perintah \"del (nama_variabel)\n",
            "      tidak akan bisa diakses lagi\n",
            "   - del berguna untuk menghapus variabel yang sudah tidak berguna ditengah program\n",
            "\n"
          ]
        }
      ],
      "source": [
        "class SimpleExample:\n",
        "   def __init__(self, name):\n",
        "      self.name = name\n",
        "      print(f'Konstruktor: Objek \"{self.name}\" telah dibuat.')\n",
        "\n",
        "   def __del__(self):\n",
        "      print(f'Destruktor: Objek \"{self.name}\" sedang dihapus.')\n",
        "\n",
        "\n",
        "def main():\n",
        "   print('Program dimulai\\n')\n",
        "\n",
        "   # membuat objek\n",
        "   obj = SimpleExample(\"Demo\")\n",
        "   print('Program sedang berjalan...\\n')\n",
        "\n",
        "   # menghapus objek\n",
        "   del obj\n",
        "   print(\"Objek telah dihapus secara eksplisit. \\n\")\n",
        "   # print(obj) tidak bisa karena sudah dihapus\n",
        "   print(\"Program selesai.\")\n",
        "\n",
        "if __name__ == \"__main__\":\n",
        "   main()\n",
        "\n",
        "print('''\n",
        "Note :\n",
        "   - Variabel yang sudah dihapus melalui perintah \"del (nama_variabel)\n",
        "      tidak akan bisa diakses lagi\n",
        "   - del berguna untuk menghapus variabel yang sudah tidak berguna ditengah program\n",
        "''')\n"
      ]
    },
    {
      "cell_type": "markdown",
      "metadata": {
        "id": "8ngLjBs458b2"
      },
      "source": [
        "Praktikum 04: Konstruktor dan Destruktor program FileLogger"
      ]
    },
    {
      "cell_type": "code",
      "execution_count": 13,
      "metadata": {
        "id": "_3181xk358b2",
        "outputId": "611385a6-ca9e-40f8-bac4-f820d05ae9b2",
        "colab": {
          "base_uri": "https://localhost:8080/"
        }
      },
      "outputs": [
        {
          "output_type": "stream",
          "name": "stdout",
          "text": [
            "File \"application.log\" berhasil dibuka untuk logging.\n",
            "Pesan log: aplikasi dimulai. telah ditulis.\n",
            "Pesan log: melakukan operasi A... telah ditulis.\n",
            "Pesan log: operasi A selesai. telah ditulis.\n",
            "Pesan log: aplikasi akan segera selesai. telah ditulis.\n",
            "File \"application.log\" telah ditutup.\n",
            "\n",
            "Note:\n",
            "   - Kita dapat membuat program yang akan menampilkan suatu kata yang kita tulis\n",
            "      dengan sebuah program/class\n",
            "   - Log adalah cara lain untuk menggantikan print\n",
            "   - setelah program selesai, sama seperti praktikum sebelumnya...kita dapat menghapus programnya\n",
            "\n"
          ]
        }
      ],
      "source": [
        "class FileLogger:\n",
        "   def __init__(self, filename):\n",
        "      self.filename = filename\n",
        "      try:\n",
        "         self.file = open(filename, \"a\") # Membuka file dalam mode append\n",
        "         print(f'File \"{filename}\" berhasil dibuka untuk logging.')\n",
        "      except Exception as e:\n",
        "         print(f'Gagal membuka file \"{filename}\": {e}')\n",
        "\n",
        "   def write_log(self, message):\n",
        "      self.file.write(message + \"\\n\") # Memberikan spasi diakhir pesan\n",
        "      self.file.flush() # Memastikan pesan langsung masuk ke disk\n",
        "      print(f'Pesan log: {message} telah ditulis.')\n",
        "\n",
        "   def __del__(self):\n",
        "      if hasattr(self, \"file\") and not self.file.closed:\n",
        "         self.file.close()\n",
        "         print(f'File \"{self.filename}\" telah ditutup.')\n",
        "\n",
        "if __name__ == \"__main__\":\n",
        "   logger = FileLogger(\"application.log\")\n",
        "\n",
        "   # menulis pesan log selama operasi\n",
        "   logger.write_log(\"aplikasi dimulai.\")\n",
        "   logger.write_log(\"melakukan operasi A...\")\n",
        "   logger.write_log(\"operasi A selesai.\")\n",
        "   logger.write_log(\"aplikasi akan segera selesai.\")\n",
        "\n",
        "   # menghapus objek logger\n",
        "   del logger\n",
        "\n",
        "print('''\n",
        "Note:\n",
        "   - Kita dapat membuat program yang akan menampilkan suatu kata yang kita tulis\n",
        "      dengan sebuah program/class\n",
        "   - Log adalah cara lain untuk menggantikan print\n",
        "   - setelah program selesai, sama seperti praktikum sebelumnya...kita dapat menghapus programnya\n",
        "''')"
      ]
    },
    {
      "cell_type": "markdown",
      "metadata": {
        "id": "exGE6G1A58b2"
      },
      "source": [
        "Praktikum 05: Properti \"self\" pada kelas"
      ]
    },
    {
      "cell_type": "code",
      "execution_count": 14,
      "metadata": {
        "id": "yL3BZsw158b2",
        "outputId": "76bed165-259d-4775-eec4-94a017018749",
        "colab": {
          "base_uri": "https://localhost:8080/"
        }
      },
      "outputs": [
        {
          "output_type": "stream",
          "name": "stdout",
          "text": [
            "kalkulator diinisialisasi dengan nilai: 10\n",
            "setelah penambahan 5, nilai sekarang adalah: 15\n",
            "setelah pengurangan 3, nilai sekarang adalah: 12\n",
            "Nilai saat ini adalah: 12\n",
            "kalkulator diinisialisasi dengan nilai: 0\n",
            "setelah penambahan 20, nilai sekarang adalah: 20\n",
            "Nilai saat ini adalah: 20\n",
            "Nilai telah direset ke 0.\n",
            "Nilai saat ini adalah: 0\n",
            "\n",
            "Note:\n",
            "   - Dengan adanya self, kita dapat memanggil variabel yang sudah tersimpan pada init\n",
            "   - Hal itu membuat kita dapat menggunakan variabel tersebut didalam class itu\n",
            "\n"
          ]
        }
      ],
      "source": [
        "class Calculator:\n",
        "   def __init__(self, initial_value=0):\n",
        "      self.value = initial_value\n",
        "      print(f\"kalkulator diinisialisasi dengan nilai: {self.value}\")\n",
        "\n",
        "   def add(self, number):\n",
        "      self.value += number\n",
        "      print(f\"setelah penambahan {number}, nilai sekarang adalah: {self.value}\")\n",
        "\n",
        "   def substract(self, number):\n",
        "      self.value -= number\n",
        "      print(f\"setelah pengurangan {number}, nilai sekarang adalah: {self.value}\")\n",
        "\n",
        "   def reset(self):\n",
        "      self.value = 0\n",
        "      print(\"Nilai telah direset ke 0.\")\n",
        "\n",
        "   def show_value(self):\n",
        "      print(f\"Nilai saat ini adalah: {self.value}\")\n",
        "\n",
        "def main():\n",
        "   calc = Calculator(initial_value=10)\n",
        "\n",
        "   calc.add(5)\n",
        "   calc.substract(3)\n",
        "   calc.show_value()\n",
        "\n",
        "   calc2 = Calculator()\n",
        "   calc2.add(20)\n",
        "   calc2.show_value()\n",
        "   calc2.reset()\n",
        "   calc2.show_value()\n",
        "\n",
        "\n",
        "if __name__ == \"__main__\":\n",
        "   main()\n",
        "\n",
        "print('''\n",
        "Note:\n",
        "   - Dengan adanya self, kita dapat memanggil variabel yang sudah tersimpan pada init\n",
        "   - Hal itu membuat kita dapat menggunakan variabel tersebut didalam class itu\n",
        "''')"
      ]
    },
    {
      "cell_type": "markdown",
      "metadata": {
        "id": "iOgYUeuJ58b3"
      },
      "source": [
        "Praktikum 06: Menggunakan getter, setter, dan dekorator @property untuk mengelola\n",
        "akses atribut"
      ]
    },
    {
      "cell_type": "code",
      "execution_count": 15,
      "metadata": {
        "id": "vdEJgCjF58b3",
        "outputId": "dd6a417b-e010-4cd8-d56a-441fbf6b8131",
        "colab": {
          "base_uri": "https://localhost:8080/"
        }
      },
      "outputs": [
        {
          "output_type": "stream",
          "name": "stdout",
          "text": [
            "Nama: Budi, Umur: 25\n",
            "Nama baru: Bob, Umur baru: 32\n",
            "Umur tidak boleh negatif.\n",
            "\n",
            "Note:\n",
            "   - Penggunaan \"@property\" dan \"@.setter\" dapat memudahkan kita untuk membuat fungsi\n",
            "      dengan def yang sama\n",
            "   - Caranya yaitu sebelum def yang digunaan diinisiasi dulu dengan @...\n",
            "\n"
          ]
        }
      ],
      "source": [
        "class Person:\n",
        "   def __init__(self, name, age):\n",
        "      self.__name = name\n",
        "      self.__age = age\n",
        "\n",
        "   @property\n",
        "   def name(self):\n",
        "      return self.__name\n",
        "\n",
        "   @name.setter\n",
        "   def name(self, value):\n",
        "      if not value:\n",
        "         print('nama tidak boleh kosong.')\n",
        "      else:\n",
        "         self.__name = value\n",
        "\n",
        "   @property\n",
        "   def age(self):\n",
        "      return self.__age\n",
        "\n",
        "   @age.setter\n",
        "   def age(self, value):\n",
        "      if value < 0:\n",
        "         print('Umur tidak boleh negatif.')\n",
        "      else:\n",
        "         self.__age = value\n",
        "\n",
        "def main():\n",
        "   person = Person(\"Budi\", 25)\n",
        "   print(f\"Nama: {person.name}, Umur: {person.age}\")\n",
        "\n",
        "   person.name = \"Bob\"\n",
        "   person.age = 32\n",
        "   print(f\"Nama baru: {person.name}, Umur baru: {person.age}\")\n",
        "\n",
        "   # mencoba nilai error\n",
        "   person.age = -5\n",
        "\n",
        "if __name__ == \"__main__\":\n",
        "   main()\n",
        "\n",
        "print('''\n",
        "Note:\n",
        "   - Penggunaan \"@property\" dan \"@.setter\" dapat memudahkan kita untuk membuat fungsi\n",
        "      dengan def yang sama\n",
        "   - Caranya yaitu sebelum def yang digunaan diinisiasi dulu dengan @...\n",
        "''')\n"
      ]
    },
    {
      "cell_type": "markdown",
      "metadata": {
        "id": "a60kQoEX58b3"
      },
      "source": [
        "Penugasan"
      ]
    },
    {
      "cell_type": "code",
      "execution_count": 16,
      "metadata": {
        "id": "9yCwr8in58b4"
      },
      "outputs": [],
      "source": [
        "from colorama import Fore, Style"
      ]
    },
    {
      "cell_type": "code",
      "execution_count": 17,
      "metadata": {
        "id": "9d9-qGuj58b4",
        "outputId": "dd3c0eee-6df5-460c-e440-f0c12de00701",
        "colab": {
          "base_uri": "https://localhost:8080/"
        }
      },
      "outputs": [
        {
          "output_type": "stream",
          "name": "stdout",
          "text": [
            "\n",
            "\u001b[36m===DATA MAHASISWA===\u001b[0m\n",
            "1. Info Data Mahasiswa \n",
            "2. Edit Data Mahasiswa\n",
            "3. Hapus Data Mahasiswa\n",
            "4. Keluar\n",
            "masukkan Opsi(1-4): 1\n",
            "\u001b[33mData Mahasiswa Kosong!!\u001b[0m\n",
            "\n",
            "\u001b[36m===DATA MAHASISWA===\u001b[0m\n",
            "1. Info Data Mahasiswa \n",
            "2. Edit Data Mahasiswa\n",
            "3. Hapus Data Mahasiswa\n",
            "4. Keluar\n",
            "masukkan Opsi(1-4): 2\n",
            "\n",
            "\n",
            "Masukkan Nama Mahasiswa: Alfin\n",
            "masukkan Nilai: 85\n",
            "\u001b[32mNama Mahasiswa berhasil diubah\u001b[0m\n",
            "\u001b[32mNilai berhasil diubah\u001b[0m\n",
            "\u001b[32m\u001b[0m\n",
            "\n",
            "\u001b[36m===DATA MAHASISWA===\u001b[0m\n",
            "1. Info Data Mahasiswa \n",
            "2. Edit Data Mahasiswa\n",
            "3. Hapus Data Mahasiswa\n",
            "4. Keluar\n",
            "masukkan Opsi(1-4): 1\n",
            "\n",
            "Nama Mahasiswa: Alfin\n",
            "Nilai: 85\n",
            "Grade: B\n",
            "\n",
            "\n",
            "\u001b[36m===DATA MAHASISWA===\u001b[0m\n",
            "1. Info Data Mahasiswa \n",
            "2. Edit Data Mahasiswa\n",
            "3. Hapus Data Mahasiswa\n",
            "4. Keluar\n",
            "masukkan Opsi(1-4): 2\n",
            "\n",
            "\n",
            "Masukkan Nama Mahasiswa: Alfin\n",
            "masukkan Nilai: 95\n",
            "\u001b[32mNilai berhasil diubah\u001b[0m\n",
            "\u001b[32m\u001b[0m\n",
            "\n",
            "\u001b[36m===DATA MAHASISWA===\u001b[0m\n",
            "1. Info Data Mahasiswa \n",
            "2. Edit Data Mahasiswa\n",
            "3. Hapus Data Mahasiswa\n",
            "4. Keluar\n",
            "masukkan Opsi(1-4): 1\n",
            "\n",
            "Nama Mahasiswa: Alfin\n",
            "Nilai: 95\n",
            "Grade: A\n",
            "\n",
            "\n",
            "\u001b[36m===DATA MAHASISWA===\u001b[0m\n",
            "1. Info Data Mahasiswa \n",
            "2. Edit Data Mahasiswa\n",
            "3. Hapus Data Mahasiswa\n",
            "4. Keluar\n",
            "masukkan Opsi(1-4): 3\n",
            "\n",
            "\u001b[32mData Mahasiswa berhasil dihapus dari sistem\u001b[0m\n",
            "\n",
            "\u001b[36m===DATA MAHASISWA===\u001b[0m\n",
            "1. Info Data Mahasiswa \n",
            "2. Edit Data Mahasiswa\n",
            "3. Hapus Data Mahasiswa\n",
            "4. Keluar\n",
            "masukkan Opsi(1-4): 1\n",
            "\u001b[33mData Mahasiswa Kosong!!\u001b[0m\n",
            "\n",
            "\u001b[36m===DATA MAHASISWA===\u001b[0m\n",
            "1. Info Data Mahasiswa \n",
            "2. Edit Data Mahasiswa\n",
            "3. Hapus Data Mahasiswa\n",
            "4. Keluar\n",
            "masukkan Opsi(1-4): 4\n",
            "\n",
            "\u001b[32mTerimakasih sudah menggunakan Program...\u001b[0m\n",
            "\n",
            "\u001b[32mData Mahasiswa berhasil dihapus dari sistem\u001b[0m\n"
          ]
        }
      ],
      "source": [
        "class Student:\n",
        "   def __init__(self, name=None, score=0):\n",
        "      self.__name = name\n",
        "      self.__score = score\n",
        "      self.__grade = \"\"\n",
        "\n",
        "   @property\n",
        "   def name(self):\n",
        "      return self.__name\n",
        "\n",
        "   @name.setter\n",
        "   def name(self, value):\n",
        "      if not value or value == '' or value == \" \":\n",
        "         print(f'{Fore.RED}Nama Mahasiswa tidak boleh kosong!')\n",
        "      elif self.__name == value:\n",
        "         self.__name = value\n",
        "      else:\n",
        "         self.__name = value\n",
        "         print(f'{Fore.GREEN}Nama Mahasiswa berhasil diubah{Style.RESET_ALL}')\n",
        "\n",
        "   @property\n",
        "   def score(self):\n",
        "      return self.__score\n",
        "\n",
        "   @score.setter\n",
        "   def score(self, value):\n",
        "      if value < 0 and value > 100:\n",
        "         print(f'{Fore.RED}Score tidak boleh kurang dari 0!{Style.RESET_ALL}')\n",
        "      elif self.__score == value:\n",
        "         self.__score = value\n",
        "      else:\n",
        "         self.__score = value\n",
        "         if self.__score >= 90 and self.__score <= 100:\n",
        "            self.__grade = \"A\"\n",
        "         elif self.__score >= 80 and self.__score <= 89:\n",
        "            self.__grade = \"B\"\n",
        "         elif self.__score >= 70 and self.__score <= 79:\n",
        "            self.__grade = \"C\"\n",
        "         elif self.__score >= 60 and self.__score <= 69:\n",
        "            self.__grade = \"D\"\n",
        "         elif self.__score >= 0 and self.__score <= 59:\n",
        "            self.__grade = \"E\"\n",
        "         print(f'{Fore.GREEN}Nilai berhasil diubah{Style.RESET_ALL}')\n",
        "\n",
        "\n",
        "   def show_info(self):\n",
        "      if self.__name == None and self.__score == 0:\n",
        "         print(f'{Fore.YELLOW}Data Mahasiswa Kosong!!{Style.RESET_ALL}')\n",
        "      else:\n",
        "         print(f'\\nNama Mahasiswa: {self.__name}')\n",
        "         print(f'Nilai: {self.__score}')\n",
        "         print(f'Grade: {self.__grade}\\n')\n",
        "\n",
        "   def __del__(self):\n",
        "      print(f'\\n{Fore.GREEN}Data Mahasiswa berhasil dihapus dari sistem{Style.RESET_ALL}')\n",
        "\n",
        "\n",
        "def main():\n",
        "   maha = Student()\n",
        "   while True:\n",
        "      try:\n",
        "         print(f'\\n{Fore.CYAN}===DATA MAHASISWA==={Style.RESET_ALL}')\n",
        "         print('1. Info Data Mahasiswa ')\n",
        "         print('2. Edit Data Mahasiswa')\n",
        "         print('3. Hapus Data Mahasiswa')\n",
        "         print('4. Keluar')\n",
        "         pil = int(input(\"masukkan Opsi(1-4): \"))\n",
        "      except ValueError:\n",
        "         print(f'{Fore.RED}Input tidak valid!!{Style.RESET_ALL}')\n",
        "\n",
        "      match pil:\n",
        "         case 1: maha.show_info()\n",
        "         case 2:\n",
        "            try:\n",
        "               print('\\n')\n",
        "               name = input(\"Masukkan Nama Mahasiswa: \")\n",
        "               score = int(input(\"masukkan Nilai: \"))\n",
        "               maha.name = name\n",
        "               maha.score = score1\n",
        "            except ValueError:\n",
        "               print(f'{Fore.RED}Input tidak Valid!!{Style.RESET_ALL}')\n",
        "         case 3:\n",
        "            del maha\n",
        "            maha = Student()\n",
        "         case 4:\n",
        "            print(f'\\n{Fore.GREEN}Terimakasih sudah menggunakan Program...{Style.RESET_ALL}')\n",
        "            break\n",
        "         case _:\n",
        "            print(f'{Fore.RED}Input tidak Valid!!{Style.RESET_ALL}')\n",
        "\n",
        "\n",
        "\n",
        "if __name__ == \"__main__\":\n",
        "   main()\n",
        "\n",
        "\n",
        "\n",
        "\n",
        "\n",
        "\n",
        "\n",
        "\n",
        "\n",
        "\n",
        ""
      ]
    }
  ],
  "metadata": {
    "colab": {
      "name": "Welcome To Colab",
      "provenance": [],
      "toc_visible": true,
      "include_colab_link": true
    },
    "kernelspec": {
      "display_name": "Python 3 (ipykernel)",
      "language": "python",
      "name": "python3"
    },
    "language_info": {
      "codemirror_mode": {
        "name": "ipython",
        "version": 3
      },
      "file_extension": ".py",
      "mimetype": "text/x-python",
      "name": "python",
      "nbconvert_exporter": "python",
      "pygments_lexer": "ipython3",
      "version": "3.13.2"
    }
  },
  "nbformat": 4,
  "nbformat_minor": 0
}